{
  "nbformat": 4,
  "nbformat_minor": 0,
  "metadata": {
    "colab": {
      "provenance": []
    },
    "kernelspec": {
      "name": "python3",
      "display_name": "Python 3"
    },
    "language_info": {
      "name": "python"
    }
  },
  "cells": [
    {
      "cell_type": "markdown",
      "source": [
        "##Ejemplos para While"
      ],
      "metadata": {
        "id": "ts882CAXo6YO"
      }
    },
    {
      "cell_type": "code",
      "execution_count": null,
      "metadata": {
        "id": "i_3OVy8oF_TX",
        "colab": {
          "base_uri": "https://localhost:8080/"
        },
        "outputId": "0518e2e4-6e0a-4611-b9c0-390f71b03205"
      },
      "outputs": [
        {
          "output_type": "stream",
          "name": "stdout",
          "text": [
            "1\n",
            "2\n",
            "3\n",
            "4\n",
            "5\n",
            "6\n",
            "7\n",
            "8\n",
            "9\n",
            "10\n"
          ]
        }
      ],
      "source": [
        "#Mostrar del 1 al 10 con while\n",
        "i = 1\n",
        "while i <= 10:\n",
        "    print(i)\n",
        "    i += 1"
      ]
    },
    {
      "cell_type": "code",
      "source": [
        "# Detenerse en el número 20\n",
        "i = 1\n",
        "while i <= 100:\n",
        "    print(i)\n",
        "    if i == 20:\n",
        "        break\n",
        "    i += 1"
      ],
      "metadata": {
        "colab": {
          "base_uri": "https://localhost:8080/"
        },
        "id": "Ypa_yRoqpIpi",
        "outputId": "53ff3eb8-f00e-4cb1-86eb-49662f3fb971"
      },
      "execution_count": null,
      "outputs": [
        {
          "output_type": "stream",
          "name": "stdout",
          "text": [
            "1\n",
            "2\n",
            "3\n",
            "4\n",
            "5\n",
            "6\n",
            "7\n",
            "8\n",
            "9\n",
            "10\n",
            "11\n",
            "12\n",
            "13\n",
            "14\n",
            "15\n",
            "16\n",
            "17\n",
            "18\n",
            "19\n",
            "20\n"
          ]
        }
      ]
    },
    {
      "cell_type": "code",
      "source": [
        "#Saltar el número 5\n",
        "i = 0\n",
        "while i < 10:\n",
        "    i += 1\n",
        "    if i == 5:\n",
        "        continue\n",
        "    print(i)"
      ],
      "metadata": {
        "colab": {
          "base_uri": "https://localhost:8080/"
        },
        "id": "13UgFudcpSz_",
        "outputId": "5be4b8b4-f54e-4e5a-b668-b6dcfe7f2785"
      },
      "execution_count": null,
      "outputs": [
        {
          "output_type": "stream",
          "name": "stdout",
          "text": [
            "1\n",
            "2\n",
            "3\n",
            "4\n",
            "6\n",
            "7\n",
            "8\n",
            "9\n",
            "10\n"
          ]
        }
      ]
    },
    {
      "cell_type": "code",
      "source": [
        "#Mostrar los números del 1 al 5 e imprimir mensaje\n",
        "i = 1\n",
        "while i <= 5:\n",
        "    print(i)\n",
        "    i += 1\n",
        "else:\n",
        "    print(\"Ya llegué al final\")"
      ],
      "metadata": {
        "colab": {
          "base_uri": "https://localhost:8080/"
        },
        "id": "P8CM9nMJpcRn",
        "outputId": "95f96540-ad55-4f75-c2b4-23bf021d5a4a"
      },
      "execution_count": null,
      "outputs": [
        {
          "output_type": "stream",
          "name": "stdout",
          "text": [
            "1\n",
            "2\n",
            "3\n",
            "4\n",
            "5\n",
            "Ya llegué al final\n"
          ]
        }
      ]
    },
    {
      "cell_type": "markdown",
      "source": [
        "##Ejemplos para FOR"
      ],
      "metadata": {
        "id": "RKJ8mDKKpzZ8"
      }
    },
    {
      "cell_type": "code",
      "source": [
        "#recorrer una lista de números y mostrarlos\n",
        "numbers = [1, 2, 3, 4, 5]\n",
        "for n in numbers:\n",
        "    print(n)"
      ],
      "metadata": {
        "colab": {
          "base_uri": "https://localhost:8080/"
        },
        "id": "jxJtXdUfp1wa",
        "outputId": "d4b11201-8919-45cb-8633-978da8d75c97"
      },
      "execution_count": null,
      "outputs": [
        {
          "output_type": "stream",
          "name": "stdout",
          "text": [
            "1\n",
            "2\n",
            "3\n",
            "4\n",
            "5\n"
          ]
        }
      ]
    },
    {
      "cell_type": "code",
      "source": [
        "#recorrer letra por letra un texto.\n",
        "word = \"Python\"\n",
        "for letter in word:\n",
        "    print(letter)"
      ],
      "metadata": {
        "colab": {
          "base_uri": "https://localhost:8080/"
        },
        "id": "Wbj5hKCDrKKO",
        "outputId": "75bd983c-9e55-4753-82e3-d6dcdcea177c"
      },
      "execution_count": null,
      "outputs": [
        {
          "output_type": "stream",
          "name": "stdout",
          "text": [
            "P\n",
            "y\n",
            "t\n",
            "h\n",
            "o\n",
            "n\n"
          ]
        }
      ]
    },
    {
      "cell_type": "code",
      "source": [
        "#detener el ciclo al encontrar un número específico.\n",
        "numbers = [10, 20, 30, 40, 50]\n",
        "for n in numbers:\n",
        "    print(n)\n",
        "    if n == 30:\n",
        "        break"
      ],
      "metadata": {
        "colab": {
          "base_uri": "https://localhost:8080/"
        },
        "id": "c-Tdtb3SrVWJ",
        "outputId": "3549090b-778b-4635-8f71-1b398a297cd0"
      },
      "execution_count": null,
      "outputs": [
        {
          "output_type": "stream",
          "name": "stdout",
          "text": [
            "10\n",
            "20\n",
            "30\n"
          ]
        }
      ]
    },
    {
      "cell_type": "code",
      "source": [
        "#imprimir los números de una lista hasta que aparezca uno específico (pero sin imprimir ese número).\n",
        "numbers = [5, 10, 15, 20, 25]\n",
        "for n in numbers:\n",
        "    if n == 15:\n",
        "        break\n",
        "    print(n)"
      ],
      "metadata": {
        "colab": {
          "base_uri": "https://localhost:8080/"
        },
        "id": "lrgafu1CrdAa",
        "outputId": "c64a7be9-4a0d-4cff-91df-6a8d17d7f1a4"
      },
      "execution_count": null,
      "outputs": [
        {
          "output_type": "stream",
          "name": "stdout",
          "text": [
            "5\n",
            "10\n"
          ]
        }
      ]
    }
  ]
}