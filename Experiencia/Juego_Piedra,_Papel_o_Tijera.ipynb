{
  "cells": [
    {
      "cell_type": "code",
      "execution_count": null,
      "metadata": {
        "colab": {
          "background_save": true,
          "base_uri": "https://localhost:8080/"
        },
        "id": "nTNMipriCKNR",
        "outputId": "534f6f15-2a1d-4b66-8a9a-8ca4189ed1f9"
      },
      "outputs": [
        {
          "name": "stdout",
          "output_type": "stream",
          "text": [
            "=== Juego: Piedra, Papel o Tijera ===\n",
            "\n",
            "Elige una opción: piedra, papel, tijera o salir\n"
          ]
        }
      ],
      "source": [
        "import random\n",
        "\n",
        "print(\"=== Juego: Piedra, Papel o Tijera ===\")\n",
        "\n",
        "# Opciones válidas\n",
        "opciones = [\"piedra\", \"papel\", \"tijera\"]\n",
        "\n",
        "while True:\n",
        "    print(\"\\nElige una opción: piedra, papel, tijera o salir\")\n",
        "    jugador = input(\"👉 Tu elección: \").lower()\n",
        "\n",
        "    if jugador == \"salir\":\n",
        "        print(\"👋 Gracias por jugar, ¡hasta luego!\")\n",
        "        break\n",
        "\n",
        "    if jugador not in opciones:\n",
        "        print(\"⚠️ Opción inválida. Intenta de nuevo.\")\n",
        "        continue\n",
        "\n",
        "    computadora = random.choice(opciones)\n",
        "    print(f\"💻 La computadora eligió: {computadora}\")\n",
        "\n",
        "    # Lógica del juego\n",
        "    if jugador == computadora:\n",
        "        print(\"🤝 Empate\")\n",
        "    elif (jugador == \"piedra\" and computadora == \"tijera\") or \\\n",
        "         (jugador == \"papel\" and computadora == \"piedra\") or \\\n",
        "         (jugador == \"tijera\" and computadora == \"papel\"):\n",
        "        print(\"🎉 ¡Ganaste!\")\n",
        "    else:\n",
        "        print(\"😢 Perdiste\")\n",
        "\n",
        "    # Preguntar si quiere seguir\n",
        "    continuar = input(\"\\n¿Quieres jugar otra ronda? (s/n): \").lower()\n",
        "    if continuar != \"s\":\n",
        "        print(\"👋 Fin del juego. ¡Gracias por jugar!\")\n",
        "        break"
      ]
    }
  ],
  "metadata": {
    "colab": {
      "provenance": []
    },
    "kernelspec": {
      "display_name": "Python 3",
      "name": "python3"
    },
    "language_info": {
      "name": "python"
    }
  },
  "nbformat": 4,
  "nbformat_minor": 0
}