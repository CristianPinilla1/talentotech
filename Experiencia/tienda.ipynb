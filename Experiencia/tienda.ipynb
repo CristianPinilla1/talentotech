{
  "nbformat": 4,
  "nbformat_minor": 0,
  "metadata": {
    "colab": {
      "provenance": [],
      "toc_visible": true
    },
    "kernelspec": {
      "name": "python3",
      "display_name": "Python 3"
    },
    "language_info": {
      "name": "python"
    }
  },
  "cells": [
    {
      "cell_type": "code",
      "execution_count": null,
      "metadata": {
        "id": "T4SRudGsHyqn"
      },
      "outputs": [],
      "source": [
        "numero =55"
      ]
    },
    {
      "cell_type": "code",
      "source": [
        "print (numero)"
      ],
      "metadata": {
        "colab": {
          "base_uri": "https://localhost:8080/"
        },
        "id": "Ve6HSOKRJDNL",
        "outputId": "2a26c0bd-3364-4dfa-fe44-e59850629c3d"
      },
      "execution_count": null,
      "outputs": [
        {
          "output_type": "stream",
          "name": "stdout",
          "text": [
            "55\n"
          ]
        }
      ]
    },
    {
      "cell_type": "code",
      "source": [
        "numero = print(round(float(input(\"ingrese el número: \")),2))"
      ],
      "metadata": {
        "colab": {
          "base_uri": "https://localhost:8080/"
        },
        "id": "dXYmTViBJT2w",
        "outputId": "0e2803fd-4191-4755-ea23-23545dad86fa"
      },
      "execution_count": null,
      "outputs": [
        {
          "output_type": "stream",
          "name": "stdout",
          "text": [
            "ingrese el número: 25\n",
            "25.0\n"
          ]
        }
      ]
    },
    {
      "cell_type": "code",
      "source": [
        "numero = input(\"ingrese numero: \")"
      ],
      "metadata": {
        "colab": {
          "base_uri": "https://localhost:8080/"
        },
        "id": "CnspfPxVMtI9",
        "outputId": "b5ceee4f-f88a-4f28-cdee-57b766e9dd88"
      },
      "execution_count": null,
      "outputs": [
        {
          "name": "stdout",
          "output_type": "stream",
          "text": [
            "ingrese numero: 55\n"
          ]
        }
      ]
    },
    {
      "cell_type": "code",
      "source": [
        "numero"
      ],
      "metadata": {
        "colab": {
          "base_uri": "https://localhost:8080/",
          "height": 35
        },
        "id": "nGTxVX9_Nq3Z",
        "outputId": "128ca2c1-4265-4324-ac18-199fab8b2d4b"
      },
      "execution_count": null,
      "outputs": [
        {
          "output_type": "execute_result",
          "data": {
            "text/plain": [
              "'55'"
            ],
            "application/vnd.google.colaboratory.intrinsic+json": {
              "type": "string"
            }
          },
          "metadata": {},
          "execution_count": 5
        }
      ]
    },
    {
      "cell_type": "code",
      "source": [
        "numero = float(input(\"ingrese numero: \"))"
      ],
      "metadata": {
        "colab": {
          "base_uri": "https://localhost:8080/"
        },
        "id": "gEtTpsKfN1_4",
        "outputId": "cae15ff5-ae61-497d-ae22-70640c9d54de"
      },
      "execution_count": null,
      "outputs": [
        {
          "name": "stdout",
          "output_type": "stream",
          "text": [
            "ingrese numero: 26\n"
          ]
        }
      ]
    },
    {
      "cell_type": "code",
      "source": [
        "numero"
      ],
      "metadata": {
        "colab": {
          "base_uri": "https://localhost:8080/"
        },
        "id": "ZWlBzKp0OIvP",
        "outputId": "da598e3c-63a4-44e2-ae37-5802f8787a39"
      },
      "execution_count": null,
      "outputs": [
        {
          "output_type": "execute_result",
          "data": {
            "text/plain": [
              "26.0"
            ]
          },
          "metadata": {},
          "execution_count": 7
        }
      ]
    },
    {
      "cell_type": "code",
      "source": [
        "numero = round(float(input(\"ingrese numero: \")),2)"
      ],
      "metadata": {
        "colab": {
          "base_uri": "https://localhost:8080/"
        },
        "id": "Yy4vN00gOLpG",
        "outputId": "7e0c5359-f7d4-4321-ba7e-da62444f5630"
      },
      "execution_count": null,
      "outputs": [
        {
          "name": "stdout",
          "output_type": "stream",
          "text": [
            "ingrese numero: 95.5454\n"
          ]
        }
      ]
    },
    {
      "cell_type": "code",
      "source": [
        "numero"
      ],
      "metadata": {
        "colab": {
          "base_uri": "https://localhost:8080/"
        },
        "id": "P-qknyUbOrwB",
        "outputId": "3948ff7b-a139-47aa-f8d3-b0a7371d0494"
      },
      "execution_count": null,
      "outputs": [
        {
          "output_type": "execute_result",
          "data": {
            "text/plain": [
              "95.55"
            ]
          },
          "metadata": {},
          "execution_count": 9
        }
      ]
    },
    {
      "cell_type": "code",
      "source": [
        "numero = print(round(float(input(\"ingrese numero: \")),2))\n"
      ],
      "metadata": {
        "colab": {
          "base_uri": "https://localhost:8080/"
        },
        "id": "pDaVNKfuOwey",
        "outputId": "316aa90d-e902-416d-bc84-90071cce3611"
      },
      "execution_count": null,
      "outputs": [
        {
          "output_type": "stream",
          "name": "stdout",
          "text": [
            "ingrese numero: 86.5454353345\n",
            "86.55\n"
          ]
        }
      ]
    },
    {
      "cell_type": "markdown",
      "source": [
        "# Sección nueva"
      ],
      "metadata": {
        "id": "Ts3yhaRMo26u"
      }
    },
    {
      "cell_type": "markdown",
      "source": [
        "TIPOS DE VARIABLES"
      ],
      "metadata": {
        "id": "mwUpJUKxqgSQ"
      }
    },
    {
      "cell_type": "code",
      "source": [
        "nombre = \"Cristian\" #texto /str\n",
        "primer_apellido = \"Pinilla\" #texto /str\n",
        "edad: 34 #numero entero /int\n",
        "estatura: 1.80   #decimal /float\n",
        "nombre_completo = nombre + \" \" + primer_apellido #texto /str\n",
        "dirección = \"Carrera 73\" #texto /str\n",
        "estado_civil= [\"soltero\", \"casado\", \"unión libre\", \"otro\"] #lista / list\n",
        "coordenadas_direccion = (22.56, 43.98) #Tupla / tuple"
      ],
      "metadata": {
        "id": "bpEsae049k3T"
      },
      "execution_count": null,
      "outputs": []
    },
    {
      "cell_type": "code",
      "source": [
        "Persona = {\n",
        "    \"nombre\": \"Cristian\",\n",
        "    \"edad\": 34,\n",
        "    \"estatura\": \"1.80\",\n",
        "    \"estado_civil\": \"soltero\"\n",
        "}\n"
      ],
      "metadata": {
        "id": "S-SZN0x6DO3D"
      },
      "execution_count": null,
      "outputs": []
    },
    {
      "cell_type": "code",
      "source": [
        "print(Persona[\"edad\"])"
      ],
      "metadata": {
        "colab": {
          "base_uri": "https://localhost:8080/"
        },
        "id": "jr5SDbljHUWw",
        "outputId": "355760a7-666b-495b-c9c9-3488165febf6"
      },
      "execution_count": null,
      "outputs": [
        {
          "output_type": "stream",
          "name": "stdout",
          "text": [
            "34\n"
          ]
        }
      ]
    },
    {
      "cell_type": "code",
      "source": [
        "print(type(nombre))\n",
        "print(type(edad))\n",
        "print(type(estatura))\n",
        "print(type(estado_civil))\n",
        "print(type(coordenadas_direccion))\n",
        "print(type(Persona))\n"
      ],
      "metadata": {
        "colab": {
          "base_uri": "https://localhost:8080/"
        },
        "id": "Ikn-Xa_XG9hJ",
        "outputId": "9bdef897-497d-4155-95e1-1c5e6e6abb87"
      },
      "execution_count": null,
      "outputs": [
        {
          "output_type": "stream",
          "name": "stdout",
          "text": [
            "<class 'str'>\n",
            "<class 'int'>\n",
            "<class 'float'>\n",
            "<class 'list'>\n",
            "<class 'tuple'>\n",
            "<class 'dict'>\n"
          ]
        }
      ]
    },
    {
      "cell_type": "markdown",
      "source": [
        "### Tienda"
      ],
      "metadata": {
        "id": "CYcLuTZBfOiI"
      }
    },
    {
      "cell_type": "code",
      "source": [
        "Tienda = \"Pelipup\" #texto /str\n",
        "dirección = \"Carrera 73\" #texto /str\n",
        "Productos= [\"Chat Gpt\", \"Hbo\", \"Netflix\"] #lista / list\n",
        "coordenadas_direccion = (22.56, 43.98) #Tupla / tuple\n",
        "\n",
        "Producto1 = { #En caso de querer hacer solo un producto\n",
        "    \"nombre\": \"Chat Gpt\",\n",
        "    \"precio\": 35.000,\n",
        "    \"cantidad\": \"10\",\n",
        "}\n",
        "\n",
        "Pelipup = { #En caso de querer crear una tienda con varios productos\n",
        "    \"Producto1\" : {\n",
        "    \"nombre\": \"Chat Gpt\",\n",
        "    \"precio\": 35000,\n",
        "    \"cantidad\": \"10\",\n",
        "    },\n",
        "    \"Producto2\" : {\n",
        "    \"nombre\": \"Hbo\",\n",
        "    \"precio\": 8000,\n",
        "    \"cantidad\": \"6\",\n",
        "    },\n",
        "    \"Producto3\" : {\n",
        "    \"nombre\": \"Netflix\",\n",
        "    \"precio\": 15000,\n",
        "    \"cantidad\": \"5\",\n",
        "    },\n",
        "}\n"
      ],
      "metadata": {
        "id": "lvaqOh19H7Z_"
      },
      "execution_count": null,
      "outputs": []
    },
    {
      "cell_type": "code",
      "source": [
        "\n",
        "print(Pelipup[\"Producto3\"])"
      ],
      "metadata": {
        "colab": {
          "base_uri": "https://localhost:8080/"
        },
        "id": "IzKjBLUaBmf0",
        "outputId": "9fee7173-9848-4f47-8251-ee9cbabbd602"
      },
      "execution_count": null,
      "outputs": [
        {
          "output_type": "stream",
          "name": "stdout",
          "text": [
            "{'nombre': 'Netflix', 'precio': 15000, 'cantidad': '5'}\n"
          ]
        }
      ]
    },
    {
      "cell_type": "code",
      "source": [
        "estado_civil[2] = \"Union marital\"\n",
        "print(estado_civil)\n"
      ],
      "metadata": {
        "colab": {
          "base_uri": "https://localhost:8080/"
        },
        "id": "KcaCPhyi_6kk",
        "outputId": "f05c4eaa-9440-4ef1-c35a-8afca8820700"
      },
      "execution_count": null,
      "outputs": [
        {
          "output_type": "stream",
          "name": "stdout",
          "text": [
            "['soltero', 'casado', 'Union marital', 'otro']\n"
          ]
        }
      ]
    },
    {
      "cell_type": "code",
      "source": [
        "print(nombre_completo)"
      ],
      "metadata": {
        "colab": {
          "base_uri": "https://localhost:8080/"
        },
        "id": "LDE6_nQW-KQt",
        "outputId": "1353f228-6ba8-482d-bc15-cd9e6a13d29b"
      },
      "execution_count": null,
      "outputs": [
        {
          "output_type": "stream",
          "name": "stdout",
          "text": [
            "Cristian Pinilla\n"
          ]
        }
      ]
    },
    {
      "cell_type": "markdown",
      "source": [
        "Manejo de números"
      ],
      "metadata": {
        "id": "n_XKA3TutuyV"
      }
    },
    {
      "cell_type": "code",
      "source": [
        "edad = 34\n",
        "estatura = 1.80\n"
      ],
      "metadata": {
        "id": "TdebKEzNtzrv"
      },
      "execution_count": null,
      "outputs": []
    },
    {
      "cell_type": "markdown",
      "source": [
        "### Tipo númerico"
      ],
      "metadata": {
        "id": "p2vnZYh3PtvC"
      }
    },
    {
      "cell_type": "code",
      "source": [
        "numero_a = 5\n",
        "numero_b = 2\n",
        "division = numero_a / numero_b\n",
        "print(division)"
      ],
      "metadata": {
        "colab": {
          "base_uri": "https://localhost:8080/"
        },
        "id": "d_Clm7PrPy3p",
        "outputId": "310c0ccf-fdb7-497d-cd58-2159ccc4a910"
      },
      "execution_count": null,
      "outputs": [
        {
          "output_type": "stream",
          "name": "stdout",
          "text": [
            "2.5\n"
          ]
        }
      ]
    },
    {
      "cell_type": "markdown",
      "source": [
        "Operacion Texto"
      ],
      "metadata": {
        "id": "ljYWKgjZRaoo"
      }
    },
    {
      "cell_type": "code",
      "source": [
        "nombre = \"Cristian\"\n",
        "apellido = \"Pinilla\"\n",
        "nombre_completo = nombre + \" \" + apellido\n",
        "print(nombre_completo)"
      ],
      "metadata": {
        "colab": {
          "base_uri": "https://localhost:8080/"
        },
        "id": "SjOnSnoGReVM",
        "outputId": "1499b54e-185b-4369-9c97-24b400035c2e"
      },
      "execution_count": null,
      "outputs": [
        {
          "output_type": "stream",
          "name": "stdout",
          "text": [
            "Cristian Pinilla\n"
          ]
        }
      ]
    },
    {
      "cell_type": "code",
      "source": [
        "nombre = \"Cristian\"\n",
        "apellido = \"Pinilla\"\n",
        "nombre_completo = nombre + \" \" + apellido\n",
        "print(nombre_completo)"
      ],
      "metadata": {
        "id": "V8ZZnWJZRmGq"
      },
      "execution_count": null,
      "outputs": []
    },
    {
      "cell_type": "markdown",
      "source": [
        "## Operaciones en las listas"
      ],
      "metadata": {
        "id": "tGL6PXDJSrD2"
      }
    },
    {
      "cell_type": "code",
      "source": [
        "frutas = [\"manzana\", \"banana\", \"cereza\"]\n",
        "print(frutas)"
      ],
      "metadata": {
        "colab": {
          "base_uri": "https://localhost:8080/"
        },
        "id": "7-uQ4FBSS0fh",
        "outputId": "085c79bc-30cf-4c73-937e-2e877f5e065a"
      },
      "execution_count": null,
      "outputs": [
        {
          "output_type": "stream",
          "name": "stdout",
          "text": [
            "['manzana', 'banana', 'cereza']\n"
          ]
        }
      ]
    },
    {
      "cell_type": "code",
      "source": [
        "frutas.append(\"naranja\")\n",
        "print(frutas)"
      ],
      "metadata": {
        "colab": {
          "base_uri": "https://localhost:8080/"
        },
        "id": "kWIvRZzKTC2s",
        "outputId": "60ae9e2b-6f6b-41ec-ecce-2242d53935d8"
      },
      "execution_count": null,
      "outputs": [
        {
          "output_type": "stream",
          "name": "stdout",
          "text": [
            "['manzana', 'banana', 'cereza', 'naranja']\n"
          ]
        }
      ]
    },
    {
      "cell_type": "code",
      "source": [
        "frutas.insert(2, \"Limón\")"
      ],
      "metadata": {
        "id": "eMaBJPUqTp5_"
      },
      "execution_count": null,
      "outputs": []
    },
    {
      "cell_type": "code",
      "source": [
        "print(frutas)"
      ],
      "metadata": {
        "colab": {
          "base_uri": "https://localhost:8080/"
        },
        "id": "Tx9MSlwNTcxH",
        "outputId": "08928e7e-65a5-4b71-88d9-3c29b1e9ad9c"
      },
      "execution_count": null,
      "outputs": [
        {
          "output_type": "stream",
          "name": "stdout",
          "text": [
            "['manzana', 'banana', 'Limón', 'Limón', 'Limón', 'cereza', 'naranja']\n"
          ]
        }
      ]
    },
    {
      "cell_type": "code",
      "source": [
        "frutas.remove(\"Limón\")"
      ],
      "metadata": {
        "id": "lWMw0PmVUByA"
      },
      "execution_count": null,
      "outputs": []
    },
    {
      "cell_type": "code",
      "source": [
        "print(frutas)"
      ],
      "metadata": {
        "colab": {
          "base_uri": "https://localhost:8080/"
        },
        "id": "rHpuzd5uUefm",
        "outputId": "98e9d0c6-1dc8-4eab-dc87-0036e04b34dd"
      },
      "execution_count": null,
      "outputs": [
        {
          "output_type": "stream",
          "name": "stdout",
          "text": [
            "['manzana', 'banana', 'Limón', 'Limón', 'cereza', 'naranja']\n"
          ]
        }
      ]
    },
    {
      "cell_type": "code",
      "source": [
        "frutas[2:4]"
      ],
      "metadata": {
        "colab": {
          "base_uri": "https://localhost:8080/"
        },
        "id": "ov9rLhB3UoNC",
        "outputId": "1c86dadc-4681-4816-eb27-b995ee8b5dd0"
      },
      "execution_count": null,
      "outputs": [
        {
          "output_type": "execute_result",
          "data": {
            "text/plain": [
              "['Limón', 'Limón']"
            ]
          },
          "metadata": {},
          "execution_count": 99
        }
      ]
    },
    {
      "cell_type": "code",
      "source": [
        "numeros = [8,5,1]\n",
        "\n",
        "suma = numeros[0] + numeros[1] + numeros[2]\n",
        "print(suma)"
      ],
      "metadata": {
        "colab": {
          "base_uri": "https://localhost:8080/"
        },
        "id": "K48fhuLoVcvC",
        "outputId": "642c941b-187b-40b5-c90e-deecacdd610c"
      },
      "execution_count": null,
      "outputs": [
        {
          "output_type": "stream",
          "name": "stdout",
          "text": [
            "14\n"
          ]
        }
      ]
    },
    {
      "cell_type": "code",
      "source": [
        "numeros = [8,5,1]\n",
        "\n",
        "suma = sum(numeros)\n",
        "print(suma)"
      ],
      "metadata": {
        "colab": {
          "base_uri": "https://localhost:8080/"
        },
        "id": "Hp5u2VzhV13d",
        "outputId": "ea6fad82-913c-48b3-9198-14a2deabf973"
      },
      "execution_count": null,
      "outputs": [
        {
          "output_type": "stream",
          "name": "stdout",
          "text": [
            "14\n"
          ]
        }
      ]
    },
    {
      "cell_type": "code",
      "source": [],
      "metadata": {
        "id": "-gkzqH8uUusK"
      },
      "execution_count": null,
      "outputs": []
    },
    {
      "cell_type": "markdown",
      "source": [
        "## Tipo Diccionarios"
      ],
      "metadata": {
        "id": "aUsYSwJOXpWS"
      }
    },
    {
      "cell_type": "code",
      "source": [
        "Persona = {\n",
        "    \"nombre\": \"Cristian\",\n",
        "    \"edad\": 34,\n",
        "    \"estatura\": \"1.80\",\n",
        "    \"estado_civil\": \"soltero\"\n",
        "}"
      ],
      "metadata": {
        "id": "avLMP54OXsQn"
      },
      "execution_count": null,
      "outputs": []
    },
    {
      "cell_type": "code",
      "source": [
        "print(Persona[\"nombre\"])"
      ],
      "metadata": {
        "colab": {
          "base_uri": "https://localhost:8080/"
        },
        "id": "dTgRuNk8XyJY",
        "outputId": "5abd1ba4-2e44-4a6f-a151-81f2c10cf6cc"
      },
      "execution_count": null,
      "outputs": [
        {
          "output_type": "stream",
          "name": "stdout",
          "text": [
            "Cristian\n"
          ]
        }
      ]
    },
    {
      "cell_type": "code",
      "source": [
        "print(Persona.get(\"nombre\"))"
      ],
      "metadata": {
        "colab": {
          "base_uri": "https://localhost:8080/"
        },
        "id": "qf7rcSBNYG-2",
        "outputId": "2631f9e1-f0f8-4234-c879-b8c1f1d80bd2"
      },
      "execution_count": null,
      "outputs": [
        {
          "output_type": "stream",
          "name": "stdout",
          "text": [
            "Cristian\n"
          ]
        }
      ]
    },
    {
      "cell_type": "code",
      "source": [
        "alumnos \" {\n",
        "  \"alumno1\":{\"nombre\"}"
      ],
      "metadata": {
        "id": "HXri2Z70Zcs4"
      },
      "execution_count": null,
      "outputs": []
    },
    {
      "cell_type": "markdown",
      "source": [
        "# Calculadora Final"
      ],
      "metadata": {
        "id": "sDdbZl2Oxmhh"
      }
    },
    {
      "cell_type": "code",
      "source": [
        "#Importando la Libreria/biblioteca de matemáticas de Python\n",
        "import math\n",
        "\n",
        "#DEFINICION DE LAS FUNCIONES:\n",
        "def mostrar_título():\n",
        "  '''\n",
        "  input:no hay entradas\n",
        "  process: mostrar titulo (está implicito en el nombre de la función, se sugiere que sea un verbo)\n",
        "  output: no hay salidas\n",
        "  '''\n",
        "\n",
        "  print('Ejemplo Calculadora Sencilla (+,-,*,/) por Felipe Escallón:')\n",
        "\n",
        "def mostrar_menu():\n",
        "  '''input: no recibe nada (0 entradas)\n",
        "  process:mostrar menu\n",
        "  output: no retorna nada (0 salidas)'''\n",
        "  print()\n",
        "  print(\"MENU:\")\n",
        "  print(\"1: Sumar (+)\")\n",
        "  print(\"2: Restar (-)\")\n",
        "  print(\"3: Multiplicar (*)\")\n",
        "  print(\"4: Dividir (/)\")\n",
        "  print(\"5: Logaritmo (log10)\")\n",
        "  print(\"6: Coseno (cos)\")\n",
        "  print(\"7: Tangente (tan)\")\n",
        "  print(\"8: Seno (sen)\")\n",
        "  print(\"9: potenciacion (x^y)\")\n",
        "  print(\"10: raiz cuadrada\")\n",
        "  print()\n",
        "\n",
        "def ingresar_datos():\n",
        "  '''input: no hay entradas\n",
        "  process:ingresar datos (recibir/leer del usuario)\n",
        "  output: tres variables que contienen localmente las decisiones del usuario (opción, numero_uno, numero_dos)'''\n",
        "  opcion= input(\"Ingrese la opción deseada del menú:\")\n",
        "  numero_uno= float(input(\"Ingrese el primer número de la operación:\")) #Guarda como flotante (número real)\n",
        "  numero_dos= float(input(\"Ingrese el segundo número de la operación:\")) #Guarda como flotante (número real)\n",
        "  return opcion, numero_uno, numero_dos\n",
        "\n",
        "#POR FACILIDAD, LAS 7 FUNCIONES SIGUIENTES TIENEN ENTRADAS Y SALIDAS\n",
        "def calcular_suma(numero_uno, numero_dos):\n",
        "  '''input: 2 numeros\n",
        "  process: calcular suma (sumar)\n",
        "  output: suma'''\n",
        "  suma=numero_uno+numero_dos\n",
        "  return suma\n",
        "\n",
        "def calcular_resta(numero_uno, numero_dos):\n",
        "  return numero_uno - numero_dos\n",
        "\n",
        "def calcular_multiplicacion(numero_uno, numero_dos):\n",
        "  return numero_uno * numero_dos\n",
        "\n",
        "def calcular_division(numero_uno, numero_dos):\n",
        "  return numero_uno / numero_dos\n",
        "\n",
        "def calcular_logaritmo_base10(numero):#x=numero (uno,dos)\n",
        "  #aquí uso la función logaritmo que está dentro de math\n",
        "  logaritmo=math.log10(numero)#x=numero\n",
        "  return logaritmo\n",
        "\n",
        "def calcular_coseno(angulo_radianes):#x=numero (uno,dos):se debe asociar con un angulo que se toma por defecto en radianes (Si está en grados, debe convertirse  a radianes =angulo*3.1416/180)\n",
        "  #aqui uso la función coseno que esta dentro de math\n",
        "  coseno= math.cos(angulo_radianes)#x=numero  (angulo_radianes)\n",
        "  return coseno\n",
        "\n",
        "def calcular_tangente(angulo_radianes):#x=numero (uno,dos): se debe asociar con un angulo que se toma por defecto en radines (Si está en grados, debe convertirse a radianes =angulo*3.1416/180)\n",
        "  #aqui uso la función tangente que esta dentro de math\n",
        "  tangente= math.tan(angulo_radianes)#x=numero (angulo_radianes)\n",
        "  return tangente\n",
        "\n",
        "def calcular_seno(angulo_radianes):#x=numero (uno,dos): se debe asociar con un angulo que se toma por defecto en radianes (Si está en grados, debe convertirse a radianes =angulo*3.1416/180)\n",
        "  #aqui uso la función seno que esta dentro de math\n",
        "  seno= math.sin(angulo_radianes)#x=numero (angulo_radianes)\n",
        "  return seno\n",
        "\n",
        "def calcular_potenciacion(numero):\n",
        "  return numero**2\n",
        "\n",
        "def calcular_raiz_cuadrada(numero):\n",
        "  return math.sqrt(numero)\n",
        "\n",
        "def procesar_y_mostrar_operacion(opcion,numero_uno,numero_dos):\n",
        "  '''input: opcion, numero, numero_dos\n",
        "  process: procesar y mostrar operacion (analizar las posibilidades para ejecutar la calculadora)\n",
        "  output: no retorna valor porque por dentro imprime por pantalla todo '''\n",
        "  if opcion == \"1\" or opcion == \"+\" or opcion== \"Sumar\":\n",
        "    print(\"Vamos a sumar (+) los dos valores ingresados:\")\n",
        "    resultado=calcular_suma(numero_uno, numero_dos)\n",
        "    print(\"La suma es:\", resultado)\n",
        "  if opcion == \"2\" or opcion == \"-\" or opcion== \"Restar\":\n",
        "    print(\"Vamos a restar (-) los dos valores ingresados:\\n\")\n",
        "    resultado=calcular_resta(numero_uno, numero_dos)\n",
        "    print(\"Resultado:\", resultado)\n",
        "  if opcion == \"3\" or opcion == \"*\" or opcion== \"Multiplicar\":\n",
        "    print(\"Vamos a multiplicar (*) los dos valores ingresados:\\n\")\n",
        "    resultado=calcular_multiplicacion(numero_uno, numero_dos)\n",
        "    print(\"Resultado:\", resultado)\n",
        "  if opcion == \"4\" or opcion == \"/\" or opcion== \"Dividir\":\n",
        "    print(\"Vamos a dividir (/) los dos valores ingresados:\\n\")\n",
        "    #VALIDANDO EL DENOMINADOR (debe ser diferente de cero)\n",
        "    if numero_dos!=0:\n",
        "      resultado=calcular_division(numero_uno, numero_dos)\n",
        "      print(\"Resultado:\", resultado)\n",
        "    else:\n",
        "      print(\"¡No es posible dividir entre cero!\")\n",
        "  if opcion == \"5\" or opcion== \"log10\" or opcion== \"logaritmo\":\n",
        "    print(\"Vamos a calcular el logaritmo (log10) de los dos valores ingresados:\\n\")\n",
        "    resultado1=calcular_logaritmo_base10(numero_uno)\n",
        "    resultado2=calcular_logaritmo_base10(numero_dos)\n",
        "    print(\"Resultado1:\", resultado1)\n",
        "    print(\"Resultado2:\", resultado2)\n",
        "  if opcion == \"6\" or opcion == \"cos\" or opcion== \"Coseno\":\n",
        "    print(\"Vamos a calcular el coseno (cos) de los dos valores ingresados:\\n\")\n",
        "    resultado1=calcular_coseno(numero_uno)\n",
        "    resultado2=calcular_coseno(numero_dos)\n",
        "    print(\"Resultado1:\", resultado1)\n",
        "    print(\"Resultado2:\", resultado2)\n",
        "  if opcion == \"7\" or opcion == \"tan\" or opcion== \"Tangente\":\n",
        "    print(\"Vamos a calcular la tangente (tan) de los dos valores ingresados:\\n\")\n",
        "    resultado1=calcular_tangente(numero_uno)\n",
        "    resultado2=calcular_tangente(numero_dos)\n",
        "    print(\"Resultado1:\", resultado1)\n",
        "    print(\"Resultado2:\", resultado2)\n",
        "  if opcion == \"8\" or opcion == \"sen\" or opcion== \"Seno\":\n",
        "    print(\"Vamos a calcular el seno (sen) de los dos valores ingresados:\\n\")\n",
        "    resultado1=calcular_seno(numero_uno)\n",
        "    resultado2=calcular_seno(numero_dos)\n",
        "    print(\"Resultado1:\", resultado1)\n",
        "    print(\"Resultado2:\", resultado2)\n",
        "  if opcion == \"9\" or opcion == \"potenciacion\" or opcion== \"potencia\":\n",
        "    print(\"Vamos a calcular la potenciacion (x^y) de los dos valores ingresados:\\n\")\n",
        "    resultado1=calcular_potenciacion(numero_uno)\n",
        "    resultado2=calcular_potenciacion(numero_dos)\n",
        "    print(\"Resultado1:\", resultado1)\n",
        "    print(\"Resultado2:\", resultado2)\n",
        "  if opcion == \"10\" or opcion == \"raiz\" or opcion== \"raiz cuadrada\":\n",
        "    print(\"Vamos a calcular la raiz cuadrada de los dos valores ingresados:\\n\")\n",
        "    resultado1=calcular_raiz_cuadrada(numero_uno)\n",
        "    resultado2=calcular_raiz_cuadrada(numero_dos)\n",
        "    print(\"Resultado1:\", resultado1)\n",
        "    print(\"Resultado2:\", resultado2)\n",
        "\n",
        "def llamar_funciones():\n",
        "  '''input: no hay entradas\n",
        "  process: llamar funciones (en orden: mostra_titulo, mostrar_menu, ingresar_datos, procesar_y_mostrar_operacion)\n",
        "  output: no hay salidas'''\n",
        "\n",
        "  mostrar_título()\n",
        "  mostrar_menu()\n",
        "  opcion, numero_uno, numero_dos=ingresar_datos()\n",
        "  procesar_y_mostrar_operacion(opcion,numero_uno,numero_dos)\n",
        "\n",
        "#EJECUCION DEL PROGRAMA:\n",
        "llamar_funciones()"
      ],
      "metadata": {
        "colab": {
          "base_uri": "https://localhost:8080/"
        },
        "id": "3oMeIuzKx3kA",
        "outputId": "7db98e21-dc3c-4672-9e9c-f9d21181e0fd"
      },
      "execution_count": null,
      "outputs": [
        {
          "output_type": "stream",
          "name": "stdout",
          "text": [
            "Ejemplo Calculadora Sencilla (+,-,*,/) por Felipe Escallón:\n",
            "\n",
            "MENU:\n",
            "1: Sumar (+)\n",
            "2: Restar (-)\n",
            "3: Multiplicar (*)\n",
            "4: Dividir (/)\n",
            "5: Logaritmo (log10)\n",
            "6: Coseno (cos)\n",
            "7: Tangente (tan)\n",
            "8: Seno (sen)\n",
            "9: potenciacion (x^y)\n",
            "10: raiz cuadrada\n",
            "\n"
          ]
        }
      ]
    },
    {
      "cell_type": "markdown",
      "source": [
        "#Estructura de Datos"
      ],
      "metadata": {
        "id": "P7nEEU0-DTcN"
      }
    },
    {
      "cell_type": "code",
      "source": [
        "#lista\n",
        "lista_frutas= [\"manzana\", \"banana\", \"cereza\", \"naranja\", \"pera\"] #lista\n",
        "lista_animales= [\"gato\", \"perro\", \"elefante\", \"tigre\", \"leon\"] #lista\n",
        "print(lista_frutas)\n",
        "print(lista_animales, \"\\n\")\n",
        "\n",
        "#tupla\n",
        "tupla_verduras= (\"zanahoria\", \"cebolla\", \"tomate\", \"lechuga\", \"pimenton\") #tupla\n",
        "tupla_colores= (\"rojo\", \"azul\", \"verde\", \"amarillo\", \"morado\") #tupla\n",
        "print(tupla_verduras)\n",
        "print(tupla_colores, \"\\n\")\n",
        "\n",
        "#conjunto\n",
        "conjunto_electrodomesticos= {\"Televisor\", \"Computador\", \"Nevera\", \"Lavadora\", \"Cafetera\"} #conjunto\n",
        "conjunto_paises= {\"España\", \"Francia\", \"Alemania\", \"Italia\", \"Reino Unido\"} #conjunto\n",
        "print(conjunto_electrodomesticos)\n",
        "print(conjunto_paises, \"\\n\")\n",
        "\n",
        "#diccionario\n",
        "d1={\"mesa\":\"mueble\", \"perro\":\"animal\", \"rosa\":\"flor\",\"avion\":\"transporte\"} #diccionario\n",
        "d2={\"lapiz\":\"util escolar\", \"feijoa\":\"fruta\", \"guitarra\":\"instrumento\",\"sol\":\"astro\"}#diccionario\n",
        "print(d1)\n",
        "print(d2, \"\\n\")\n",
        "\n",
        "#Operaciones con Conjuntos\n",
        "conjunto_universal = conjunto_electrodomesticos.union(conjunto_paises)\n",
        "print(conjunto_universal, \"\\n\")\n",
        "\n",
        "#union\n",
        "union = conjunto_electrodomesticos.union(conjunto_paises)\n",
        "print(union, \"\\n\")\n",
        "\n",
        "#interseccion\n",
        "interseccion = conjunto_electrodomesticos.intersection(conjunto_paises)\n",
        "print(interseccion, \"\\n\")\n",
        "\n",
        "#diferencia\n",
        "diferencia = conjunto_electrodomesticos.difference(conjunto_paises)\n",
        "print(diferencia, \"\\n\")\n",
        "\n",
        "#diferencia_simetricas\n",
        "diferencia_simetricas = conjunto_electrodomesticos.symmetric_difference(conjunto_paises)\n",
        "print(diferencia_simetricas, \"\\n\")\n",
        "\n",
        "#complemento\n",
        "complemento_electrodomesticos = conjunto_universal.difference(conjunto_electrodomesticos)\n",
        "print(complemento_electrodomesticos)\n",
        "complemento_paises = conjunto_universal.difference(conjunto_paises)\n",
        "print(complemento_paises, \"\\n\")\n"
      ],
      "metadata": {
        "colab": {
          "base_uri": "https://localhost:8080/"
        },
        "id": "2MCh6z1-DZbs",
        "outputId": "e6b3646c-51f5-4423-f0f7-227900be0c83"
      },
      "execution_count": null,
      "outputs": [
        {
          "output_type": "stream",
          "name": "stdout",
          "text": [
            "['manzana', 'banana', 'cereza', 'naranja', 'pera']\n",
            "['gato', 'perro', 'elefante', 'tigre', 'leon'] \n",
            "\n",
            "('zanahoria', 'cebolla', 'tomate', 'lechuga', 'pimenton')\n",
            "('rojo', 'azul', 'verde', 'amarillo', 'morado') \n",
            "\n",
            "{'Nevera', 'Computador', 'Lavadora', 'Televisor', 'Cafetera'}\n",
            "{'Francia', 'Reino Unido', 'Italia', 'Alemania', 'España'} \n",
            "\n",
            "{'mesa': 'mueble', 'perro': 'animal', 'rosa': 'flor', 'avion': 'transporte'}\n",
            "{'lapiz': 'util escolar', 'feijoa': 'fruta', 'guitarra': 'instrumento', 'sol': 'astro'} \n",
            "\n",
            "{'Francia', 'España', 'Nevera', 'Computador', 'Lavadora', 'Reino Unido', 'Televisor', 'Alemania', 'Cafetera', 'Italia'} \n",
            "\n",
            "{'Francia', 'España', 'Nevera', 'Computador', 'Lavadora', 'Reino Unido', 'Televisor', 'Alemania', 'Cafetera', 'Italia'} \n",
            "\n",
            "set() \n",
            "\n",
            "{'Nevera', 'Computador', 'Lavadora', 'Televisor', 'Cafetera'} \n",
            "\n",
            "{'Nevera', 'Lavadora', 'Reino Unido', 'Alemania', 'Francia', 'España', 'Computador', 'Televisor', 'Cafetera', 'Italia'} \n",
            "\n",
            "{'Francia', 'España', 'Reino Unido', 'Alemania', 'Italia'}\n",
            "{'Nevera', 'Computador', 'Lavadora', 'Televisor', 'Cafetera'} \n",
            "\n"
          ]
        }
      ]
    }
  ]
}