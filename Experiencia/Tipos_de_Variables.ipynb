{
  "nbformat": 4,
  "nbformat_minor": 0,
  "metadata": {
    "colab": {
      "provenance": [],
      "toc_visible": true
    },
    "kernelspec": {
      "name": "python3",
      "display_name": "Python 3"
    },
    "language_info": {
      "name": "python"
    }
  },
  "cells": [
    {
      "cell_type": "code",
      "execution_count": null,
      "metadata": {
        "id": "T4SRudGsHyqn"
      },
      "outputs": [],
      "source": [
        "numero =55"
      ]
    },
    {
      "cell_type": "code",
      "source": [
        "print (numero)"
      ],
      "metadata": {
        "colab": {
          "base_uri": "https://localhost:8080/"
        },
        "id": "Ve6HSOKRJDNL",
        "outputId": "2a26c0bd-3364-4dfa-fe44-e59850629c3d"
      },
      "execution_count": null,
      "outputs": [
        {
          "output_type": "stream",
          "name": "stdout",
          "text": [
            "55\n"
          ]
        }
      ]
    },
    {
      "cell_type": "code",
      "source": [
        "numero = print(round(float(input(\"ingrese el número: \")),2))"
      ],
      "metadata": {
        "colab": {
          "base_uri": "https://localhost:8080/"
        },
        "id": "dXYmTViBJT2w",
        "outputId": "0e2803fd-4191-4755-ea23-23545dad86fa"
      },
      "execution_count": null,
      "outputs": [
        {
          "output_type": "stream",
          "name": "stdout",
          "text": [
            "ingrese el número: 25\n",
            "25.0\n"
          ]
        }
      ]
    },
    {
      "cell_type": "code",
      "source": [
        "numero = input(\"ingrese numero: \")"
      ],
      "metadata": {
        "colab": {
          "base_uri": "https://localhost:8080/"
        },
        "id": "CnspfPxVMtI9",
        "outputId": "b5ceee4f-f88a-4f28-cdee-57b766e9dd88"
      },
      "execution_count": null,
      "outputs": [
        {
          "name": "stdout",
          "output_type": "stream",
          "text": [
            "ingrese numero: 55\n"
          ]
        }
      ]
    },
    {
      "cell_type": "code",
      "source": [
        "numero"
      ],
      "metadata": {
        "colab": {
          "base_uri": "https://localhost:8080/",
          "height": 35
        },
        "id": "nGTxVX9_Nq3Z",
        "outputId": "128ca2c1-4265-4324-ac18-199fab8b2d4b"
      },
      "execution_count": null,
      "outputs": [
        {
          "output_type": "execute_result",
          "data": {
            "text/plain": [
              "'55'"
            ],
            "application/vnd.google.colaboratory.intrinsic+json": {
              "type": "string"
            }
          },
          "metadata": {},
          "execution_count": 5
        }
      ]
    },
    {
      "cell_type": "code",
      "source": [
        "numero = float(input(\"ingrese numero: \"))"
      ],
      "metadata": {
        "colab": {
          "base_uri": "https://localhost:8080/"
        },
        "id": "gEtTpsKfN1_4",
        "outputId": "cae15ff5-ae61-497d-ae22-70640c9d54de"
      },
      "execution_count": null,
      "outputs": [
        {
          "name": "stdout",
          "output_type": "stream",
          "text": [
            "ingrese numero: 26\n"
          ]
        }
      ]
    },
    {
      "cell_type": "code",
      "source": [
        "numero"
      ],
      "metadata": {
        "colab": {
          "base_uri": "https://localhost:8080/"
        },
        "id": "ZWlBzKp0OIvP",
        "outputId": "da598e3c-63a4-44e2-ae37-5802f8787a39"
      },
      "execution_count": null,
      "outputs": [
        {
          "output_type": "execute_result",
          "data": {
            "text/plain": [
              "26.0"
            ]
          },
          "metadata": {},
          "execution_count": 7
        }
      ]
    },
    {
      "cell_type": "code",
      "source": [
        "numero = round(float(input(\"ingrese numero: \")),2)"
      ],
      "metadata": {
        "colab": {
          "base_uri": "https://localhost:8080/"
        },
        "id": "Yy4vN00gOLpG",
        "outputId": "7e0c5359-f7d4-4321-ba7e-da62444f5630"
      },
      "execution_count": null,
      "outputs": [
        {
          "name": "stdout",
          "output_type": "stream",
          "text": [
            "ingrese numero: 95.5454\n"
          ]
        }
      ]
    },
    {
      "cell_type": "code",
      "source": [
        "numero"
      ],
      "metadata": {
        "colab": {
          "base_uri": "https://localhost:8080/"
        },
        "id": "P-qknyUbOrwB",
        "outputId": "3948ff7b-a139-47aa-f8d3-b0a7371d0494"
      },
      "execution_count": null,
      "outputs": [
        {
          "output_type": "execute_result",
          "data": {
            "text/plain": [
              "95.55"
            ]
          },
          "metadata": {},
          "execution_count": 9
        }
      ]
    },
    {
      "cell_type": "code",
      "source": [
        "numero = print(round(float(input(\"ingrese numero: \")),2))\n"
      ],
      "metadata": {
        "colab": {
          "base_uri": "https://localhost:8080/"
        },
        "id": "pDaVNKfuOwey",
        "outputId": "316aa90d-e902-416d-bc84-90071cce3611"
      },
      "execution_count": null,
      "outputs": [
        {
          "output_type": "stream",
          "name": "stdout",
          "text": [
            "ingrese numero: 86.5454353345\n",
            "86.55\n"
          ]
        }
      ]
    },
    {
      "cell_type": "markdown",
      "source": [
        "TIPOS DE VARIABLES"
      ],
      "metadata": {
        "id": "mwUpJUKxqgSQ"
      }
    },
    {
      "cell_type": "code",
      "source": [
        "nombre = \"Cristian\" #texto /str\n",
        "primer_apellido = \"Pinilla\" #texto /str\n",
        "edad: 34 #numero entero /int\n",
        "estatura: 1.80   #decimal /float\n",
        "nombre_completo = nombre + \" \" + primer_apellido #texto /str\n",
        "dirección = \"Carrera 73\" #texto /str\n",
        "estado_civil= [\"soltero\", \"casado\", \"unión libre\", \"otro\"] #lista / list\n",
        "coordenadas_direccion = (22.56, 43.98) #Tupla / tuple"
      ],
      "metadata": {
        "id": "bpEsae049k3T"
      },
      "execution_count": null,
      "outputs": []
    },
    {
      "cell_type": "code",
      "source": [
        "Persona = {\n",
        "    \"nombre\": \"Cristian\",\n",
        "    \"edad\": 34,\n",
        "    \"estatura\": \"1.80\",\n",
        "    \"estado_civil\": \"soltero\"\n",
        "}\n"
      ],
      "metadata": {
        "id": "S-SZN0x6DO3D"
      },
      "execution_count": null,
      "outputs": []
    },
    {
      "cell_type": "code",
      "source": [
        "print(Persona[\"edad\"])"
      ],
      "metadata": {
        "colab": {
          "base_uri": "https://localhost:8080/"
        },
        "id": "jr5SDbljHUWw",
        "outputId": "355760a7-666b-495b-c9c9-3488165febf6"
      },
      "execution_count": null,
      "outputs": [
        {
          "output_type": "stream",
          "name": "stdout",
          "text": [
            "34\n"
          ]
        }
      ]
    },
    {
      "cell_type": "code",
      "source": [
        "print(type(nombre))\n",
        "print(type(edad))\n",
        "print(type(estatura))\n",
        "print(type(estado_civil))\n",
        "print(type(coordenadas_direccion))\n",
        "print(type(Persona))\n"
      ],
      "metadata": {
        "colab": {
          "base_uri": "https://localhost:8080/"
        },
        "id": "Ikn-Xa_XG9hJ",
        "outputId": "9bdef897-497d-4155-95e1-1c5e6e6abb87"
      },
      "execution_count": null,
      "outputs": [
        {
          "output_type": "stream",
          "name": "stdout",
          "text": [
            "<class 'str'>\n",
            "<class 'int'>\n",
            "<class 'float'>\n",
            "<class 'list'>\n",
            "<class 'tuple'>\n",
            "<class 'dict'>\n"
          ]
        }
      ]
    },
    {
      "cell_type": "code",
      "source": [
        "estado_civil[2] = \"Union marital\"\n",
        "print(estado_civil)\n"
      ],
      "metadata": {
        "colab": {
          "base_uri": "https://localhost:8080/"
        },
        "id": "KcaCPhyi_6kk",
        "outputId": "f05c4eaa-9440-4ef1-c35a-8afca8820700"
      },
      "execution_count": null,
      "outputs": [
        {
          "output_type": "stream",
          "name": "stdout",
          "text": [
            "['soltero', 'casado', 'Union marital', 'otro']\n"
          ]
        }
      ]
    },
    {
      "cell_type": "code",
      "source": [
        "print(nombre_completo)"
      ],
      "metadata": {
        "colab": {
          "base_uri": "https://localhost:8080/"
        },
        "id": "LDE6_nQW-KQt",
        "outputId": "1353f228-6ba8-482d-bc15-cd9e6a13d29b"
      },
      "execution_count": null,
      "outputs": [
        {
          "output_type": "stream",
          "name": "stdout",
          "text": [
            "Cristian Pinilla\n"
          ]
        }
      ]
    },
    {
      "cell_type": "markdown",
      "source": [
        "Manejo de números"
      ],
      "metadata": {
        "id": "n_XKA3TutuyV"
      }
    },
    {
      "cell_type": "code",
      "source": [
        "edad = 34\n",
        "estatura = 1.80\n"
      ],
      "metadata": {
        "id": "TdebKEzNtzrv"
      },
      "execution_count": null,
      "outputs": []
    },
    {
      "cell_type": "markdown",
      "source": [
        "### Tipo númerico"
      ],
      "metadata": {
        "id": "p2vnZYh3PtvC"
      }
    },
    {
      "cell_type": "code",
      "source": [
        "numero_a = 5\n",
        "numero_b = 2\n",
        "division = numero_a / numero_b\n",
        "print(division)"
      ],
      "metadata": {
        "colab": {
          "base_uri": "https://localhost:8080/"
        },
        "id": "d_Clm7PrPy3p",
        "outputId": "310c0ccf-fdb7-497d-cd58-2159ccc4a910"
      },
      "execution_count": null,
      "outputs": [
        {
          "output_type": "stream",
          "name": "stdout",
          "text": [
            "2.5\n"
          ]
        }
      ]
    },
    {
      "cell_type": "markdown",
      "source": [
        "Operacion Texto"
      ],
      "metadata": {
        "id": "ljYWKgjZRaoo"
      }
    },
    {
      "cell_type": "code",
      "source": [
        "nombre = \"Cristian\"\n",
        "apellido = \"Pinilla\"\n",
        "nombre_completo = nombre + \" \" + apellido\n",
        "print(nombre_completo)"
      ],
      "metadata": {
        "colab": {
          "base_uri": "https://localhost:8080/"
        },
        "id": "SjOnSnoGReVM",
        "outputId": "1499b54e-185b-4369-9c97-24b400035c2e"
      },
      "execution_count": null,
      "outputs": [
        {
          "output_type": "stream",
          "name": "stdout",
          "text": [
            "Cristian Pinilla\n"
          ]
        }
      ]
    },
    {
      "cell_type": "code",
      "source": [
        "nombre = \"Cristian\"\n",
        "apellido = \"Pinilla\"\n",
        "nombre_completo = nombre + \" \" + apellido\n",
        "print(nombre_completo)"
      ],
      "metadata": {
        "id": "V8ZZnWJZRmGq"
      },
      "execution_count": null,
      "outputs": []
    },
    {
      "cell_type": "markdown",
      "source": [
        "## Operaciones en las listas"
      ],
      "metadata": {
        "id": "tGL6PXDJSrD2"
      }
    },
    {
      "cell_type": "code",
      "source": [
        "frutas = [\"manzana\", \"banana\", \"cereza\"]\n",
        "print(frutas)"
      ],
      "metadata": {
        "colab": {
          "base_uri": "https://localhost:8080/"
        },
        "id": "7-uQ4FBSS0fh",
        "outputId": "085c79bc-30cf-4c73-937e-2e877f5e065a"
      },
      "execution_count": null,
      "outputs": [
        {
          "output_type": "stream",
          "name": "stdout",
          "text": [
            "['manzana', 'banana', 'cereza']\n"
          ]
        }
      ]
    },
    {
      "cell_type": "code",
      "source": [
        "frutas.append(\"naranja\")\n",
        "print(frutas)"
      ],
      "metadata": {
        "colab": {
          "base_uri": "https://localhost:8080/"
        },
        "id": "kWIvRZzKTC2s",
        "outputId": "60ae9e2b-6f6b-41ec-ecce-2242d53935d8"
      },
      "execution_count": null,
      "outputs": [
        {
          "output_type": "stream",
          "name": "stdout",
          "text": [
            "['manzana', 'banana', 'cereza', 'naranja']\n"
          ]
        }
      ]
    },
    {
      "cell_type": "code",
      "source": [
        "frutas.insert(2, \"Limón\")"
      ],
      "metadata": {
        "id": "eMaBJPUqTp5_"
      },
      "execution_count": null,
      "outputs": []
    },
    {
      "cell_type": "code",
      "source": [
        "print(frutas)"
      ],
      "metadata": {
        "colab": {
          "base_uri": "https://localhost:8080/"
        },
        "id": "Tx9MSlwNTcxH",
        "outputId": "08928e7e-65a5-4b71-88d9-3c29b1e9ad9c"
      },
      "execution_count": null,
      "outputs": [
        {
          "output_type": "stream",
          "name": "stdout",
          "text": [
            "['manzana', 'banana', 'Limón', 'Limón', 'Limón', 'cereza', 'naranja']\n"
          ]
        }
      ]
    },
    {
      "cell_type": "code",
      "source": [
        "frutas.remove(\"Limón\")"
      ],
      "metadata": {
        "id": "lWMw0PmVUByA"
      },
      "execution_count": null,
      "outputs": []
    },
    {
      "cell_type": "code",
      "source": [
        "print(frutas)"
      ],
      "metadata": {
        "colab": {
          "base_uri": "https://localhost:8080/"
        },
        "id": "rHpuzd5uUefm",
        "outputId": "98e9d0c6-1dc8-4eab-dc87-0036e04b34dd"
      },
      "execution_count": null,
      "outputs": [
        {
          "output_type": "stream",
          "name": "stdout",
          "text": [
            "['manzana', 'banana', 'Limón', 'Limón', 'cereza', 'naranja']\n"
          ]
        }
      ]
    },
    {
      "cell_type": "code",
      "source": [
        "frutas[2:4]"
      ],
      "metadata": {
        "colab": {
          "base_uri": "https://localhost:8080/"
        },
        "id": "ov9rLhB3UoNC",
        "outputId": "1c86dadc-4681-4816-eb27-b995ee8b5dd0"
      },
      "execution_count": null,
      "outputs": [
        {
          "output_type": "execute_result",
          "data": {
            "text/plain": [
              "['Limón', 'Limón']"
            ]
          },
          "metadata": {},
          "execution_count": 99
        }
      ]
    },
    {
      "cell_type": "code",
      "source": [
        "numeros = [8,5,1]\n",
        "\n",
        "suma = numeros[0] + numeros[1] + numeros[2]\n",
        "print(suma)"
      ],
      "metadata": {
        "colab": {
          "base_uri": "https://localhost:8080/"
        },
        "id": "K48fhuLoVcvC",
        "outputId": "642c941b-187b-40b5-c90e-deecacdd610c"
      },
      "execution_count": null,
      "outputs": [
        {
          "output_type": "stream",
          "name": "stdout",
          "text": [
            "14\n"
          ]
        }
      ]
    },
    {
      "cell_type": "code",
      "source": [
        "numeros = [8,5,1]\n",
        "\n",
        "suma = sum(numeros)\n",
        "print(suma)"
      ],
      "metadata": {
        "colab": {
          "base_uri": "https://localhost:8080/"
        },
        "id": "Hp5u2VzhV13d",
        "outputId": "ea6fad82-913c-48b3-9198-14a2deabf973"
      },
      "execution_count": null,
      "outputs": [
        {
          "output_type": "stream",
          "name": "stdout",
          "text": [
            "14\n"
          ]
        }
      ]
    },
    {
      "cell_type": "code",
      "source": [],
      "metadata": {
        "id": "-gkzqH8uUusK"
      },
      "execution_count": null,
      "outputs": []
    },
    {
      "cell_type": "markdown",
      "source": [
        "## Tipo Diccionarios"
      ],
      "metadata": {
        "id": "aUsYSwJOXpWS"
      }
    },
    {
      "cell_type": "code",
      "source": [
        "Persona = {\n",
        "    \"nombre\": \"Cristian\",\n",
        "    \"edad\": 34,\n",
        "    \"estatura\": \"1.80\",\n",
        "    \"estado_civil\": \"soltero\"\n",
        "}"
      ],
      "metadata": {
        "id": "avLMP54OXsQn"
      },
      "execution_count": null,
      "outputs": []
    },
    {
      "cell_type": "code",
      "source": [
        "print(Persona[\"nombre\"])"
      ],
      "metadata": {
        "colab": {
          "base_uri": "https://localhost:8080/"
        },
        "id": "dTgRuNk8XyJY",
        "outputId": "5abd1ba4-2e44-4a6f-a151-81f2c10cf6cc"
      },
      "execution_count": null,
      "outputs": [
        {
          "output_type": "stream",
          "name": "stdout",
          "text": [
            "Cristian\n"
          ]
        }
      ]
    },
    {
      "cell_type": "code",
      "source": [
        "print(Persona.get(\"nombre\"))"
      ],
      "metadata": {
        "colab": {
          "base_uri": "https://localhost:8080/"
        },
        "id": "qf7rcSBNYG-2",
        "outputId": "2631f9e1-f0f8-4234-c879-b8c1f1d80bd2"
      },
      "execution_count": null,
      "outputs": [
        {
          "output_type": "stream",
          "name": "stdout",
          "text": [
            "Cristian\n"
          ]
        }
      ]
    },
    {
      "cell_type": "code",
      "source": [
        "alumnos \" {\n",
        "  \"alumno1\":{\"nombre\"}"
      ],
      "metadata": {
        "id": "HXri2Z70Zcs4"
      },
      "execution_count": null,
      "outputs": []
    }
  ]
}